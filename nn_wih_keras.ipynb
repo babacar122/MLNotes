{
 "cells": [
  {
   "cell_type": "markdown",
   "metadata": {},
   "source": [
    "# Artificial Neural Networks with keras\n",
    "\n",
    "Artificial Neural Networks are the state of the art of machine learning, they main appeal is very powerful and scalable. They can classify billions of \n",
    "images, understance human language... etc. In this chapter we will discuss them extensively and after that we will talk about an amelioration of them \n",
    "called multilayer perceptron.\n",
    "\n",
    "## Perceptron\n",
    "\n",
    "A Perceptron is one of the simplest types of artificial neural networks and serves as the foundation for more complex neural network models. It is often \n",
    "used for binary classification tasks. The perceptron is a linear classifier, meaning it makes decisions by finding a linear boundary that separates \n",
    "different classes of data. A perceptron consists of a single neuron. It has input features, weights, a bias, and an activation function. Its function\n",
    "by having basic units called __TLU__(Threshold Logical Unit) and every TLU is connected to each input all of this in a single layer. This type of networks are trained by mimicking the behavior of biological brains, meaning that connections that produce correct predictions are reenforced and inversely others \n",
    "that produce incorrect predictions are weakened. Here is the equation defining the learning rule:\n",
    "$$w_{i, j}^{(next step)} = w_{i, j} + \\eta (y_j + \\hat{y_j})x_i $$\n",
    "In this equation $w_{i, j}$ is the connection weight between the input _i_ and the neuron _j_, $x_i$ is the $i^{th}$ input value of the current training\n",
    "instance, $\\hat{y}$ is the output of the $j^{th}$ output neuron for the current training instance, y is the target output of the $j^{th}$ output neuron for the current training instance and $\\eta$ is the learning rate. Scikit-learn possess a _Perceptron_ class that can be used exactly like a _LogisticRegressor_\n",
    "class:"
   ]
  },
  {
   "cell_type": "code",
   "execution_count": 2,
   "metadata": {},
   "outputs": [
    {
     "name": "stdout",
     "output_type": "stream",
     "text": [
      "[ True False]\n"
     ]
    }
   ],
   "source": [
    "from sklearn.linear_model import Perceptron\n",
    "import numpy as np\n",
    "from sklearn.datasets import load_iris\n",
    "\n",
    "iris = load_iris(as_frame=True)\n",
    "X = iris.data[[\"petal length (cm)\", \"petal width (cm)\"]].values\n",
    "y = (iris.target == 0)\n",
    "per_clf = Perceptron(random_state=42)\n",
    "per_clf.fit(X, y)\n",
    "X_new = [[2, 0.5], [3, 1]]\n",
    "print(per_clf.predict(X_new))\n",
    "# We can do the same thing with a SGDClassifier by setting its loss parameter to \"perceptron\", learning_rate to \"constant\" and eta0=1"
   ]
  },
  {
   "cell_type": "markdown",
   "metadata": {},
   "source": [
    "The proeminent problem with perceptron is that they are incapable of solving basic problems such as the exclusive OR(XOR). To mitigate this problem the\n",
    "solution is to simply stack multiple layers of them which bring the topic of __multilayer perceptrons(MLP)__.\n",
    "\n",
    "## Multilayer Perceptron and Backpropagation\n",
    "\n",
    "A MLP is composed of one layer of inputs, one or more layers of TLU (called the _hidden layer_) and an output layer. The way to train a MLP is to use the\n",
    "algorithm called __reverse mode automatic differentiation__, it computes the gradient of the neural network's error taking into account all the model's\n",
    "parameters. Meaning its find the best value for the connection weights and bias to apply in order to obtain an optimal model. At the end of the process, we\n",
    "can use this gradients to perform a gradient descent step which will gradually drop the error rate of the model until it reaches a minimum. This process\n",
    "is called _backpropagation_. Let's look at how the backpropagation is performed step by step in details:\n",
    "- It handles one mini-batch at a time and goes through the whole training set multiple times (each loop is called an _epoch_).\n",
    "- Each mini-batch become the input layer and they are passed trough the hidden layers similarly to how we would make predictions except all the intermediate\n",
    " results are kept for the backward pass. This phase is called the _forward pass_.\n",
    "- The algorithm measure the error by using a cost function that compares the output(s) to the desired output(s).\n",
    "- Then it computes how much each bias and weight contribute to the error rate by following a concept known as the _chain rule_.\n",
    "- After that the algorithm try to measure how much of the error is contributed by the layers(still using the chain rule) working its way backward until\n",
    " it comes back to the input layer. This reverse pass efficiently measures the error gradient across all the connection weights and biases in the network by \n",
    " propagating the error gradient backward through the network. This is the _backward pass_.\n",
    "- Finally the algorithm perform gradient descent to tweak the parameters using the error gradient computed earlier.\n",
    "\n",
    "__Side Note__: For the first pass of course we should initialize the inputs weights randomly and the bias term at 0 (or randomly both are fine).  \n",
    "In order for backpropagation to work, the step function have to be swapped to the logistic function(also called the sigmoid function):\n",
    "$$\\sigma(z) = \\frac{1}{1 + \\exp(-z)} $$\n",
    "But it can work with other activation function other than this one such as:\n",
    "- The hyperbolic tangent function:\n",
    " $$\\tanh(z) = 2\\sigma (2z) - 1 $$\n",
    "- The rectified linear unit function (__ReLU__):\n",
    " $$ReLU(z) = \\max(0, z) $$\n",
    "\n",
    "### Regression tasks with MLPs\n",
    "\n",
    "Scikit-Learn includes an MLPRegressor class, we can use it to build an MLP with 3 hidden layers composed of 50 neurons each, and train it on our housing\n",
    "dataset."
   ]
  },
  {
   "cell_type": "code",
   "execution_count": 5,
   "metadata": {},
   "outputs": [
    {
     "name": "stdout",
     "output_type": "stream",
     "text": [
      "Prediction on the validation set: [1.28463736 2.3567012  1.37453837 ... 2.00380092 1.63780066 1.98379911]\n",
      "Error rate on the predictions: 0.505332665796845\n"
     ]
    }
   ],
   "source": [
    "from sklearn.datasets import fetch_california_housing\n",
    "from sklearn.metrics import root_mean_squared_error\n",
    "from sklearn.model_selection import train_test_split\n",
    "from sklearn.neural_network import MLPRegressor\n",
    "from sklearn.pipeline import make_pipeline\n",
    "from sklearn.preprocessing import StandardScaler\n",
    "\n",
    "housing = fetch_california_housing()\n",
    "X_train_full, X_test, y_train_full, y_test = train_test_split(housing.data, housing.target, random_state=42)\n",
    "X_train, X_valid, y_train, y_valid = train_test_split(X_train_full, y_train_full, random_state=42)\n",
    "\n",
    "mlp_reg = MLPRegressor(hidden_layer_sizes=[50, 50, 50], random_state=42)\n",
    "pipeline = make_pipeline(StandardScaler(), mlp_reg)\n",
    "pipeline.fit(X_train, y_train)\n",
    "y_pred = pipeline.predict(X_valid)\n",
    "rmse = root_mean_squared_error(y_valid, y_pred)\n",
    "\n",
    "print(f\"Prediction on the validation set: {y_pred}\")\n",
    "print(f\"Error rate on the predictions: {rmse}\") # Error rate we will be similar to a random forest classifier"
   ]
  },
  {
   "cell_type": "markdown",
   "metadata": {},
   "source": [
    "__Side Note__: We did not use any activation function here so the mlp can output any value, but if we wanted it to only output a positive value then we could use ReLU as activation function or its smoothed variant called _softplus_:\n",
    "$$softplus(z) = \\log(1 + \\exp(z)) $$\n",
    "Softplus's output is close to zero when z is negative and close to z when z is positive. We should also note that _MLPRegressor_ does not support to be\n",
    "passed an activation function."
   ]
  },
  {
   "cell_type": "markdown",
   "metadata": {},
   "source": [
    "### Classification with MLPs\n",
    "\n",
    "We can also use MLPs for classification problems (from a simple binary classification to a multilabel binary classification). Scikit-Learn has an \n",
    "_MLPClassifier_ class in the _sklearn.neural\\_network_ package. It is almost identical to the MLPRegressor class, except that it minimizes the cross \n",
    "entropy rather than the MSE. It’s almost a linear task, so a single layer with 5 to 10 neurons should suffice (make sure to scale the features)."
   ]
  },
  {
   "cell_type": "markdown",
   "metadata": {},
   "source": [
    "### MLP with Keras using the Sequential API\n",
    "\n",
    "Let' demonstrate how to use this library by building an image classification algorithm for that we will use the MNIST fashion dataset."
   ]
  },
  {
   "cell_type": "code",
   "execution_count": 2,
   "metadata": {},
   "outputs": [],
   "source": [
    "import tensorflow as tf\n",
    "\n",
    "fashion_mnist = tf.keras.datasets.fashion_mnist.load_data()\n",
    "(X_train_full, y_train_full), (X_test, y_test) = fashion_mnist\n",
    "X_train, y_train = X_train_full[:-5000], y_train_full[:-5000]\n",
    "X_valid, y_valid = X_train_full[-5000:], y_train_full[-5000:]\n",
    "\n",
    "# To simplify we are going to scale the pixel intensity to 0-1 range\n",
    "X_train, X_valid, X_test = X_train / 255, X_valid / 255, X_test / 255\n",
    "\n",
    "# Now we are going to build the model using 2 hidden layers\n",
    "tf.random.set_seed(42)\n",
    "model = tf.keras.Sequential()\n",
    "model.add(tf.keras.layers.InputLayer(input_shape=[28, 28]))\n",
    "model.add(tf.keras.layers.Flatten()) # The flatten layer just reshape the 28x28 image into a 1D array\n",
    "model.add(tf.keras.layers.Dense(300, activation=\"relu\"))\n",
    "model.add(tf.keras.layers.Dense(100, activation=\"relu\"))\n",
    "model.add(tf.keras.layers.Dense(10, activation=\"softmax\"))\n",
    "# Alternatively we can pass the list of layers directly when creating the sequential model\n",
    "\"\"\"\n",
    "model = tf.keras.Sequential([\n",
    "    tf.keras.layers.Flatten(input_shape=[28, 28]),\n",
    "    tf.keras.layers.Dense(300, activation=\"relu\"),\n",
    "    tf.keras.layers.Dense(100, activation=\"relu\"),\n",
    "    tf.keras.layers.Dense(10, activation=\"softmax\")\n",
    "])\n",
    "\"\"\"\n",
    "# Now we must compile the model in order to specify the loss function, optimizer and other metrics we would want to have\n",
    "model.compile(loss=\"sparse_categorical_crossentropy\", optimizer=\"sgd\", metrics=[\"accuracy\"])"
   ]
  },
  {
   "cell_type": "markdown",
   "metadata": {},
   "source": [
    "The loss function we have chosen to use is the sparse categorical crossentropy because the target values are sparse(they are mutually exclusive) as for the\n",
    "optimizer we use \"sgd\" which means it will use schotastic gradient descent after the backpropagation(other optimizers more performant exist). "
   ]
  },
  {
   "cell_type": "code",
   "execution_count": 3,
   "metadata": {},
   "outputs": [
    {
     "name": "stdout",
     "output_type": "stream",
     "text": [
      "Epoch 1/30\n",
      "\u001b[1m1719/1719\u001b[0m \u001b[32m━━━━━━━━━━━━━━━━━━━━\u001b[0m\u001b[37m\u001b[0m \u001b[1m10s\u001b[0m 6ms/step - accuracy: 0.6815 - loss: 0.9750 - val_accuracy: 0.8260 - val_loss: 0.5067\n",
      "Epoch 2/30\n",
      "\u001b[1m1719/1719\u001b[0m \u001b[32m━━━━━━━━━━━━━━━━━━━━\u001b[0m\u001b[37m\u001b[0m \u001b[1m10s\u001b[0m 6ms/step - accuracy: 0.8270 - loss: 0.5053 - val_accuracy: 0.8364 - val_loss: 0.4521\n",
      "Epoch 3/30\n",
      "\u001b[1m1719/1719\u001b[0m \u001b[32m━━━━━━━━━━━━━━━━━━━━\u001b[0m\u001b[37m\u001b[0m \u001b[1m9s\u001b[0m 5ms/step - accuracy: 0.8439 - loss: 0.4516 - val_accuracy: 0.8412 - val_loss: 0.4285\n",
      "Epoch 4/30\n",
      "\u001b[1m1719/1719\u001b[0m \u001b[32m━━━━━━━━━━━━━━━━━━━━\u001b[0m\u001b[37m\u001b[0m \u001b[1m8s\u001b[0m 5ms/step - accuracy: 0.8538 - loss: 0.4207 - val_accuracy: 0.8488 - val_loss: 0.4135\n",
      "Epoch 5/30\n",
      "\u001b[1m1719/1719\u001b[0m \u001b[32m━━━━━━━━━━━━━━━━━━━━\u001b[0m\u001b[37m\u001b[0m \u001b[1m9s\u001b[0m 5ms/step - accuracy: 0.8599 - loss: 0.3985 - val_accuracy: 0.8520 - val_loss: 0.4027\n",
      "Epoch 6/30\n",
      "\u001b[1m1719/1719\u001b[0m \u001b[32m━━━━━━━━━━━━━━━━━━━━\u001b[0m\u001b[37m\u001b[0m \u001b[1m9s\u001b[0m 5ms/step - accuracy: 0.8657 - loss: 0.3811 - val_accuracy: 0.8564 - val_loss: 0.3934\n",
      "Epoch 7/30\n",
      "\u001b[1m1719/1719\u001b[0m \u001b[32m━━━━━━━━━━━━━━━━━━━━\u001b[0m\u001b[37m\u001b[0m \u001b[1m24s\u001b[0m 14ms/step - accuracy: 0.8713 - loss: 0.3667 - val_accuracy: 0.8584 - val_loss: 0.3876\n",
      "Epoch 8/30\n",
      "\u001b[1m1719/1719\u001b[0m \u001b[32m━━━━━━━━━━━━━━━━━━━━\u001b[0m\u001b[37m\u001b[0m \u001b[1m15s\u001b[0m 9ms/step - accuracy: 0.8753 - loss: 0.3548 - val_accuracy: 0.8608 - val_loss: 0.3816\n",
      "Epoch 9/30\n",
      "\u001b[1m1719/1719\u001b[0m \u001b[32m━━━━━━━━━━━━━━━━━━━━\u001b[0m\u001b[37m\u001b[0m \u001b[1m20s\u001b[0m 12ms/step - accuracy: 0.8786 - loss: 0.3442 - val_accuracy: 0.8640 - val_loss: 0.3751\n",
      "Epoch 10/30\n",
      "\u001b[1m1719/1719\u001b[0m \u001b[32m━━━━━━━━━━━━━━━━━━━━\u001b[0m\u001b[37m\u001b[0m \u001b[1m20s\u001b[0m 12ms/step - accuracy: 0.8823 - loss: 0.3346 - val_accuracy: 0.8658 - val_loss: 0.3727\n",
      "Epoch 11/30\n",
      "\u001b[1m1719/1719\u001b[0m \u001b[32m━━━━━━━━━━━━━━━━━━━━\u001b[0m\u001b[37m\u001b[0m \u001b[1m17s\u001b[0m 10ms/step - accuracy: 0.8847 - loss: 0.3258 - val_accuracy: 0.8664 - val_loss: 0.3678\n",
      "Epoch 12/30\n",
      "\u001b[1m1719/1719\u001b[0m \u001b[32m━━━━━━━━━━━━━━━━━━━━\u001b[0m\u001b[37m\u001b[0m \u001b[1m16s\u001b[0m 9ms/step - accuracy: 0.8878 - loss: 0.3178 - val_accuracy: 0.8684 - val_loss: 0.3642\n",
      "Epoch 13/30\n",
      "\u001b[1m1719/1719\u001b[0m \u001b[32m━━━━━━━━━━━━━━━━━━━━\u001b[0m\u001b[37m\u001b[0m \u001b[1m22s\u001b[0m 13ms/step - accuracy: 0.8898 - loss: 0.3102 - val_accuracy: 0.8702 - val_loss: 0.3606\n",
      "Epoch 14/30\n",
      "\u001b[1m1719/1719\u001b[0m \u001b[32m━━━━━━━━━━━━━━━━━━━━\u001b[0m\u001b[37m\u001b[0m \u001b[1m20s\u001b[0m 11ms/step - accuracy: 0.8917 - loss: 0.3032 - val_accuracy: 0.8712 - val_loss: 0.3579\n",
      "Epoch 15/30\n",
      "\u001b[1m1719/1719\u001b[0m \u001b[32m━━━━━━━━━━━━━━━━━━━━\u001b[0m\u001b[37m\u001b[0m \u001b[1m14s\u001b[0m 8ms/step - accuracy: 0.8939 - loss: 0.2966 - val_accuracy: 0.8712 - val_loss: 0.3553\n",
      "Epoch 16/30\n",
      "\u001b[1m1719/1719\u001b[0m \u001b[32m━━━━━━━━━━━━━━━━━━━━\u001b[0m\u001b[37m\u001b[0m \u001b[1m14s\u001b[0m 8ms/step - accuracy: 0.8962 - loss: 0.2902 - val_accuracy: 0.8718 - val_loss: 0.3530\n",
      "Epoch 17/30\n",
      "\u001b[1m1719/1719\u001b[0m \u001b[32m━━━━━━━━━━━━━━━━━━━━\u001b[0m\u001b[37m\u001b[0m \u001b[1m14s\u001b[0m 8ms/step - accuracy: 0.8982 - loss: 0.2842 - val_accuracy: 0.8730 - val_loss: 0.3507\n",
      "Epoch 18/30\n",
      "\u001b[1m1719/1719\u001b[0m \u001b[32m━━━━━━━━━━━━━━━━━━━━\u001b[0m\u001b[37m\u001b[0m \u001b[1m13s\u001b[0m 8ms/step - accuracy: 0.9001 - loss: 0.2786 - val_accuracy: 0.8718 - val_loss: 0.3493\n",
      "Epoch 19/30\n",
      "\u001b[1m1719/1719\u001b[0m \u001b[32m━━━━━━━━━━━━━━━━━━━━\u001b[0m\u001b[37m\u001b[0m \u001b[1m13s\u001b[0m 7ms/step - accuracy: 0.9028 - loss: 0.2733 - val_accuracy: 0.8718 - val_loss: 0.3492\n",
      "Epoch 20/30\n",
      "\u001b[1m1719/1719\u001b[0m \u001b[32m━━━━━━━━━━━━━━━━━━━━\u001b[0m\u001b[37m\u001b[0m \u001b[1m11s\u001b[0m 6ms/step - accuracy: 0.9045 - loss: 0.2680 - val_accuracy: 0.8724 - val_loss: 0.3487\n",
      "Epoch 21/30\n",
      "\u001b[1m1719/1719\u001b[0m \u001b[32m━━━━━━━━━━━━━━━━━━━━\u001b[0m\u001b[37m\u001b[0m \u001b[1m31s\u001b[0m 18ms/step - accuracy: 0.9061 - loss: 0.2629 - val_accuracy: 0.8746 - val_loss: 0.3463\n",
      "Epoch 22/30\n",
      "\u001b[1m1719/1719\u001b[0m \u001b[32m━━━━━━━━━━━━━━━━━━━━\u001b[0m\u001b[37m\u001b[0m \u001b[1m21s\u001b[0m 12ms/step - accuracy: 0.9081 - loss: 0.2581 - val_accuracy: 0.8756 - val_loss: 0.3462\n",
      "Epoch 23/30\n",
      "\u001b[1m1719/1719\u001b[0m \u001b[32m━━━━━━━━━━━━━━━━━━━━\u001b[0m\u001b[37m\u001b[0m \u001b[1m32s\u001b[0m 7ms/step - accuracy: 0.9099 - loss: 0.2534 - val_accuracy: 0.8756 - val_loss: 0.3458\n",
      "Epoch 24/30\n",
      "\u001b[1m1719/1719\u001b[0m \u001b[32m━━━━━━━━━━━━━━━━━━━━\u001b[0m\u001b[37m\u001b[0m \u001b[1m10s\u001b[0m 6ms/step - accuracy: 0.9121 - loss: 0.2488 - val_accuracy: 0.8756 - val_loss: 0.3438\n",
      "Epoch 25/30\n",
      "\u001b[1m1719/1719\u001b[0m \u001b[32m━━━━━━━━━━━━━━━━━━━━\u001b[0m\u001b[37m\u001b[0m \u001b[1m9s\u001b[0m 5ms/step - accuracy: 0.9140 - loss: 0.2444 - val_accuracy: 0.8762 - val_loss: 0.3438\n",
      "Epoch 26/30\n",
      "\u001b[1m1719/1719\u001b[0m \u001b[32m━━━━━━━━━━━━━━━━━━━━\u001b[0m\u001b[37m\u001b[0m \u001b[1m10s\u001b[0m 5ms/step - accuracy: 0.9150 - loss: 0.2400 - val_accuracy: 0.8772 - val_loss: 0.3445\n",
      "Epoch 27/30\n",
      "\u001b[1m1719/1719\u001b[0m \u001b[32m━━━━━━━━━━━━━━━━━━━━\u001b[0m\u001b[37m\u001b[0m \u001b[1m9s\u001b[0m 5ms/step - accuracy: 0.9170 - loss: 0.2360 - val_accuracy: 0.8764 - val_loss: 0.3457\n",
      "Epoch 28/30\n",
      "\u001b[1m1719/1719\u001b[0m \u001b[32m━━━━━━━━━━━━━━━━━━━━\u001b[0m\u001b[37m\u001b[0m \u001b[1m10s\u001b[0m 6ms/step - accuracy: 0.9184 - loss: 0.2320 - val_accuracy: 0.8764 - val_loss: 0.3468\n",
      "Epoch 29/30\n",
      "\u001b[1m1719/1719\u001b[0m \u001b[32m━━━━━━━━━━━━━━━━━━━━\u001b[0m\u001b[37m\u001b[0m \u001b[1m9s\u001b[0m 5ms/step - accuracy: 0.9203 - loss: 0.2281 - val_accuracy: 0.8760 - val_loss: 0.3474\n",
      "Epoch 30/30\n",
      "\u001b[1m1719/1719\u001b[0m \u001b[32m━━━━━━━━━━━━━━━━━━━━\u001b[0m\u001b[37m\u001b[0m \u001b[1m9s\u001b[0m 5ms/step - accuracy: 0.9215 - loss: 0.2245 - val_accuracy: 0.8772 - val_loss: 0.3459\n"
     ]
    }
   ],
   "source": [
    "# Now we can train the model\n",
    "history = model.fit(X_train, y_train, epochs=30, validation_data=(X_valid, y_valid))"
   ]
  },
  {
   "cell_type": "markdown",
   "metadata": {},
   "source": [
    "The history object the model returns a History object containing the training parameters (_history.params_), the list of epochs it went through \n",
    "(_history.epoch_), and most importantly a dictionary (_history.history_) containing the loss and extra metrics it measured at the end of each epoch on the \n",
    "training set and on the validation set. If we plot this dataframe we obtain the learning curve of the model:"
   ]
  },
  {
   "cell_type": "code",
   "execution_count": 4,
   "metadata": {},
   "outputs": [
    {
     "data": {
      "image/png": "[encoded data removed]",
      "text/plain": [
       "<Figure size 800x500 with 1 Axes>"
      ]
     },
     "metadata": {},
     "output_type": "display_data"
    }
   ],
   "source": [
    "import matplotlib.pyplot as plt\n",
    "import pandas as pd\n",
    "\n",
    "pd.DataFrame(history.history).plot(figsize=(8, 5), xlim=[0, 29], ylim=[0, 1], grid=True, xlabel=\"Epoch\", style=[\"r--\", \"r--.\", \"b-\", \"b-*\"])\n",
    "plt.show()"
   ]
  },
  {
   "cell_type": "markdown",
   "metadata": {},
   "source": [
    "Here we can observe that the model perform a bit better on the training set than on the validation set (which means that a little bit of overfitting is \n",
    "taking place)."
   ]
  },
  {
   "cell_type": "markdown",
   "metadata": {},
   "source": [
    "### Regression tasks with the Sequential API\n",
    "\n",
    "Let's build the a neural net and test it on the housing dataset."
   ]
  },
  {
   "cell_type": "code",
   "execution_count": 6,
   "metadata": {},
   "outputs": [
    {
     "name": "stderr",
     "output_type": "stream",
     "text": [
      "e:\\Notes\\handsonml\\mlnotes\\Lib\\site-packages\\keras\\src\\layers\\preprocessing\\tf_data_layer.py:19: UserWarning: Do not pass an `input_shape`/`input_dim` argument to a layer. When using Sequential models, prefer using an `Input(shape)` object as the first layer in the model instead.\n",
      "  super().__init__(**kwargs)\n"
     ]
    },
    {
     "name": "stdout",
     "output_type": "stream",
     "text": [
      "Epoch 1/20\n",
      "\u001b[1m1719/1719\u001b[0m \u001b[32m━━━━━━━━━━━━━━━━━━━━\u001b[0m\u001b[37m\u001b[0m \u001b[1m20s\u001b[0m 9ms/step - RootMeanSquaredError: 3.0623 - loss: 9.4595 - val_RootMeanSquaredError: 2.9013 - val_loss: 8.4177\n",
      "Epoch 2/20\n",
      "\u001b[1m1719/1719\u001b[0m \u001b[32m━━━━━━━━━━━━━━━━━━━━\u001b[0m\u001b[37m\u001b[0m \u001b[1m11s\u001b[0m 7ms/step - RootMeanSquaredError: 2.8836 - loss: 8.3152 - val_RootMeanSquaredError: 2.8998 - val_loss: 8.4088\n",
      "Epoch 3/20\n",
      "\u001b[1m1719/1719\u001b[0m \u001b[32m━━━━━━━━━━━━━━━━━━━━\u001b[0m\u001b[37m\u001b[0m \u001b[1m11s\u001b[0m 7ms/step - RootMeanSquaredError: 2.8787 - loss: 8.2868 - val_RootMeanSquaredError: 2.9001 - val_loss: 8.4107\n",
      "Epoch 4/20\n",
      "\u001b[1m1719/1719\u001b[0m \u001b[32m━━━━━━━━━━━━━━━━━━━━\u001b[0m\u001b[37m\u001b[0m \u001b[1m11s\u001b[0m 6ms/step - RootMeanSquaredError: 2.8769 - loss: 8.2767 - val_RootMeanSquaredError: 2.8979 - val_loss: 8.3981\n",
      "Epoch 5/20\n",
      "\u001b[1m1719/1719\u001b[0m \u001b[32m━━━━━━━━━━━━━━━━━━━━\u001b[0m\u001b[37m\u001b[0m \u001b[1m10s\u001b[0m 6ms/step - RootMeanSquaredError: 2.8759 - loss: 8.2710 - val_RootMeanSquaredError: 2.8964 - val_loss: 8.3892\n",
      "Epoch 6/20\n",
      "\u001b[1m1719/1719\u001b[0m \u001b[32m━━━━━━━━━━━━━━━━━━━━\u001b[0m\u001b[37m\u001b[0m \u001b[1m9s\u001b[0m 5ms/step - RootMeanSquaredError: 2.8751 - loss: 8.2663 - val_RootMeanSquaredError: 2.8954 - val_loss: 8.3836\n",
      "Epoch 7/20\n",
      "\u001b[1m1719/1719\u001b[0m \u001b[32m━━━━━━━━━━━━━━━━━━━━\u001b[0m\u001b[37m\u001b[0m \u001b[1m10s\u001b[0m 6ms/step - RootMeanSquaredError: 2.8746 - loss: 8.2636 - val_RootMeanSquaredError: 2.8943 - val_loss: 8.3770\n",
      "Epoch 8/20\n",
      "\u001b[1m1719/1719\u001b[0m \u001b[32m━━━━━━━━━━━━━━━━━━━━\u001b[0m\u001b[37m\u001b[0m \u001b[1m12s\u001b[0m 7ms/step - RootMeanSquaredError: 2.8742 - loss: 8.2608 - val_RootMeanSquaredError: 2.8932 - val_loss: 8.3706\n",
      "Epoch 9/20\n",
      "\u001b[1m1719/1719\u001b[0m \u001b[32m━━━━━━━━━━━━━━━━━━━━\u001b[0m\u001b[37m\u001b[0m \u001b[1m10s\u001b[0m 6ms/step - RootMeanSquaredError: 2.8737 - loss: 8.2581 - val_RootMeanSquaredError: 2.8941 - val_loss: 8.3761\n",
      "Epoch 10/20\n",
      "\u001b[1m1719/1719\u001b[0m \u001b[32m━━━━━━━━━━━━━━━━━━━━\u001b[0m\u001b[37m\u001b[0m \u001b[1m9s\u001b[0m 5ms/step - RootMeanSquaredError: 2.8735 - loss: 8.2572 - val_RootMeanSquaredError: 2.8928 - val_loss: 8.3683\n",
      "Epoch 11/20\n",
      "\u001b[1m1719/1719\u001b[0m \u001b[32m━━━━━━━━━━━━━━━━━━━━\u001b[0m\u001b[37m\u001b[0m \u001b[1m12s\u001b[0m 7ms/step - RootMeanSquaredError: 2.8730 - loss: 8.2541 - val_RootMeanSquaredError: 2.8926 - val_loss: 8.3669\n",
      "Epoch 12/20\n",
      "\u001b[1m1719/1719\u001b[0m \u001b[32m━━━━━━━━━━━━━━━━━━━━\u001b[0m\u001b[37m\u001b[0m \u001b[1m11s\u001b[0m 7ms/step - RootMeanSquaredError: 2.8726 - loss: 8.2518 - val_RootMeanSquaredError: 2.8926 - val_loss: 8.3671\n",
      "Epoch 13/20\n",
      "\u001b[1m1719/1719\u001b[0m \u001b[32m━━━━━━━━━━━━━━━━━━━━\u001b[0m\u001b[37m\u001b[0m \u001b[1m11s\u001b[0m 7ms/step - RootMeanSquaredError: 2.8722 - loss: 8.2493 - val_RootMeanSquaredError: 2.8928 - val_loss: 8.3684\n",
      "Epoch 14/20\n",
      "\u001b[1m1719/1719\u001b[0m \u001b[32m━━━━━━━━━━━━━━━━━━━━\u001b[0m\u001b[37m\u001b[0m \u001b[1m12s\u001b[0m 7ms/step - RootMeanSquaredError: 2.8719 - loss: 8.2479 - val_RootMeanSquaredError: 2.8929 - val_loss: 8.3691\n",
      "Epoch 15/20\n",
      "\u001b[1m1719/1719\u001b[0m \u001b[32m━━━━━━━━━━━━━━━━━━━━\u001b[0m\u001b[37m\u001b[0m \u001b[1m11s\u001b[0m 6ms/step - RootMeanSquaredError: 2.8717 - loss: 8.2467 - val_RootMeanSquaredError: 2.8930 - val_loss: 8.3696\n",
      "Epoch 16/20\n",
      "\u001b[1m1719/1719\u001b[0m \u001b[32m━━━━━━━━━━━━━━━━━━━━\u001b[0m\u001b[37m\u001b[0m \u001b[1m21s\u001b[0m 7ms/step - RootMeanSquaredError: 2.8715 - loss: 8.2457 - val_RootMeanSquaredError: 2.8931 - val_loss: 8.3699\n",
      "Epoch 17/20\n",
      "\u001b[1m1719/1719\u001b[0m \u001b[32m━━━━━━━━━━━━━━━━━━━━\u001b[0m\u001b[37m\u001b[0m \u001b[1m12s\u001b[0m 7ms/step - RootMeanSquaredError: 2.8715 - loss: 8.2454 - val_RootMeanSquaredError: 2.8931 - val_loss: 8.3702\n",
      "Epoch 18/20\n",
      "\u001b[1m1719/1719\u001b[0m \u001b[32m━━━━━━━━━━━━━━━━━━━━\u001b[0m\u001b[37m\u001b[0m \u001b[1m11s\u001b[0m 7ms/step - RootMeanSquaredError: 2.8713 - loss: 8.2446 - val_RootMeanSquaredError: 2.8931 - val_loss: 8.3701\n",
      "Epoch 19/20\n",
      "\u001b[1m1719/1719\u001b[0m \u001b[32m━━━━━━━━━━━━━━━━━━━━\u001b[0m\u001b[37m\u001b[0m \u001b[1m9s\u001b[0m 5ms/step - RootMeanSquaredError: 2.8712 - loss: 8.2440 - val_RootMeanSquaredError: 2.8932 - val_loss: 8.3705\n",
      "Epoch 20/20\n",
      "\u001b[1m1719/1719\u001b[0m \u001b[32m━━━━━━━━━━━━━━━━━━━━\u001b[0m\u001b[37m\u001b[0m \u001b[1m10s\u001b[0m 6ms/step - RootMeanSquaredError: 2.8712 - loss: 8.2436 - val_RootMeanSquaredError: 2.8932 - val_loss: 8.3708\n",
      "\u001b[1m313/313\u001b[0m \u001b[32m━━━━━━━━━━━━━━━━━━━━\u001b[0m\u001b[37m\u001b[0m \u001b[1m1s\u001b[0m 3ms/step - RootMeanSquaredError: 2.8625 - loss: 8.1943\n",
      "\u001b[1m1/1\u001b[0m \u001b[32m━━━━━━━━━━━━━━━━━━━━\u001b[0m\u001b[37m\u001b[0m \u001b[1m0s\u001b[0m 148ms/step\n"
     ]
    }
   ],
   "source": [
    "tf.random.set_seed(42)\n",
    "norm_layer = tf.keras.layers.Normalization(input_shape=X_train.shape[1:])\n",
    "model = tf.keras.Sequential([\n",
    "    norm_layer, # This does the same thing as a StandardScaler\n",
    "    tf.keras.layers.Dense(50, activation=\"relu\"),\n",
    "    tf.keras.layers.Dense(50, activation=\"relu\"),\n",
    "    tf.keras.layers.Dense(50, activation=\"relu\"),\n",
    "    tf.keras.layers.Dense(1)\n",
    "])\n",
    "optimizer = tf.keras.optimizers.Adam(learning_rate=1e-3)\n",
    "model.compile(loss=\"mse\", optimizer=optimizer, metrics=[\"RootMeanSquaredError\"])\n",
    "norm_layer.adapt(X_train)\n",
    "history = model.fit(X_train, y_train, epochs=20, validation_data=(X_valid, y_valid))\n",
    "mse_test, rmse_test = model.evaluate(X_test, y_test)\n",
    "X_new = X_test[:3]\n",
    "y_pred = model.predict(X_new)"
   ]
  },
  {
   "cell_type": "markdown",
   "metadata": {},
   "source": [
    "Althought the sequential model is pretty popular sometime we will need to use more complex models. \n",
    "\n",
    "### Building complex models using the functional API\n",
    "\n",
    "The algorithm works by connecting all or part of the input layer to the output layer. This method makes the algorithm more prone to learning simpler\n",
    "patterns because the data will not have to go through all this transformation(this is called the _wide path_), but also the hidden layers will be in \n",
    "charge of finding the more complex patterns(this is called the _deep path_)."
   ]
  },
  {
   "cell_type": "code",
   "execution_count": 7,
   "metadata": {},
   "outputs": [],
   "source": [
    "normalization_layer = tf.keras.layers.Normalization()\n",
    "hidden_layer1 = tf.keras.layers.Dense(30, activation=\"relu\")\n",
    "hidden_layer2 = tf.keras.layers.Dense(30, activation=\"relu\")\n",
    "concat_layer = tf.keras.layers.Concatenate()\n",
    "output_layer = tf.keras.layers.Dense(1)\n",
    "\n",
    "input_ = tf.keras.layers.Input(shape=X_train.shape[1:])\n",
    "normalized = normalization_layer(input_)\n",
    "hidden1 = hidden_layer1(normalized)\n",
    "hidden2 = hidden_layer2(hidden1)\n",
    "concat = concat_layer([normalized, hidden2])\n",
    "\n",
    "output = output_layer(concat)\n",
    "model = tf.keras.Model(inputs=[input_], outputs=[output])"
   ]
  },
  {
   "cell_type": "markdown",
   "metadata": {},
   "source": [
    "But if we want to pass a subset of the features through the deep path and another subset of features through the wide path, here is the solution:"
   ]
  },
  {
   "cell_type": "code",
   "execution_count": 8,
   "metadata": {},
   "outputs": [],
   "source": [
    "input_wide = tf.keras.layers.Input(shape=[5])\n",
    "input_deep = tf.keras.layers.Input(shape=[6])\n",
    "norm_layer_wide = tf.keras.layers.Normalization()\n",
    "norm_layer_deep = tf.keras.layers.Normalization()\n",
    "norm_wide = norm_layer_wide(input_wide)\n",
    "norm_deep = norm_layer_deep(input_deep)\n",
    "hidden1 = tf.keras.layers.Dense(30, activation=\"relu\")(norm_deep)\n",
    "hidden2 = tf.keras.layers.Dense(30, activation=\"relu\")(hidden1)\n",
    "concat = tf.keras.layers.concatenate([norm_wide, hidden2])\n",
    "output = tf.keras.layers.Dense(1)(concat)\n",
    "model = tf.keras.Model(inputs=[input_wide, input_deep], outputs=[output])"
   ]
  },
  {
   "cell_type": "markdown",
   "metadata": {},
   "source": [
    "### Using the subclassing API to build dynamic models\n",
    "\n",
    "The models we have built so far fits most purposes but sometimes we may need to be able to customize their behavior. For that keras gives us the Model\n",
    "subclass where we can create our layers in, and specify the computations we want it to perform."
   ]
  },
  {
   "cell_type": "code",
   "execution_count": null,
   "metadata": {},
   "outputs": [],
   "source": [
    "# Let's create a copycat of the functional model from earlier\n",
    "class WideAndDeepModel(tf.keras.Model):\n",
    "    def __init__(self, units=30, activation=\"relu\", **kwargs):\n",
    "        super.__init__(**kwargs)\n",
    "        self.norm_layer_wide = tf.keras.layers.Normalization()\n",
    "        self.norm_layer_deep = tf.keras.layers.Normalization()\n",
    "        self.hidden1 = tf.keras.layers.Dense(units, activation=activation)\n",
    "        self.hidden2 = tf.keras.layers.Dense(units, activation=activation)\n",
    "        self.main_output = tf.keras.layers.Dense(1)\n",
    "        self.aux_output = tf.keras.layers.Dense(1)\n",
    "\n",
    "    def call(self, inputs):\n",
    "        input_wide, input_deep = inputs\n",
    "        norm_wide = self.norm_layer_wide(input_wide)\n",
    "        norm_deep = self.norm_layer_deep(input_deep)\n",
    "        hidden1 = self.hidden1(norm_deep)\n",
    "        hidden2 = self.hidden2(hidden1)\n",
    "        concat = tf.keras.layers.concatenate([norm_wide, hidden2])\n",
    "        output = self.main_output(concat)\n",
    "        aux_output = self.aux_output(hidden2)\n",
    "        return output, aux_output"
   ]
  },
  {
   "cell_type": "markdown",
   "metadata": {},
   "source": [
    "### Saving models\n",
    "\n",
    "Saving the model in the filesystem is very simple:"
   ]
  },
  {
   "cell_type": "code",
   "execution_count": 12,
   "metadata": {},
   "outputs": [
    {
     "name": "stdout",
     "output_type": "stream",
     "text": [
      "INFO:tensorflow:Assets written to: my_model.tf\\assets\n"
     ]
    },
    {
     "name": "stderr",
     "output_type": "stream",
     "text": [
      "INFO:tensorflow:Assets written to: my_model.tf\\assets\n"
     ]
    },
    {
     "name": "stdout",
     "output_type": "stream",
     "text": [
      "Saved artifact at 'my_model.tf'. The following endpoints are available:\n",
      "\n",
      "* Endpoint 'serve'\n",
      "  args_0 (POSITIONAL_ONLY): List[TensorSpec(shape=(None, 5), dtype=tf.float32, name='keras_tensor_34'), TensorSpec(shape=(None, 6), dtype=tf.float32, name='keras_tensor_35')]\n",
      "Output Type:\n",
      "  TensorSpec(shape=(None, 1), dtype=tf.float32, name=None)\n",
      "Captures:\n",
      "  2656082283984: TensorSpec(shape=(1, 6), dtype=tf.float32, name=None)\n",
      "  2656082281104: TensorSpec(shape=(1, 6), dtype=tf.float32, name=None)\n",
      "  2656082282640: TensorSpec(shape=(), dtype=tf.resource, name=None)\n",
      "  2656082285520: TensorSpec(shape=(), dtype=tf.resource, name=None)\n",
      "  2656082283792: TensorSpec(shape=(1, 5), dtype=tf.float32, name=None)\n",
      "  2656082283216: TensorSpec(shape=(1, 5), dtype=tf.float32, name=None)\n",
      "  2656082286288: TensorSpec(shape=(), dtype=tf.resource, name=None)\n",
      "  2656082286864: TensorSpec(shape=(), dtype=tf.resource, name=None)\n",
      "  2656082287056: TensorSpec(shape=(), dtype=tf.resource, name=None)\n",
      "  2656082287632: TensorSpec(shape=(), dtype=tf.resource, name=None)\n"
     ]
    }
   ],
   "source": [
    "model.save(\"my_model.keras\") # Both works fine\n",
    "model.export(\"my_model.tf\")"
   ]
  },
  {
   "cell_type": "markdown",
   "metadata": {},
   "source": [
    "We can load a saved model like this:"
   ]
  },
  {
   "cell_type": "code",
   "execution_count": null,
   "metadata": {},
   "outputs": [],
   "source": [
    "model = tf.keras.models.load_model(\"my_model.tf\")"
   ]
  },
  {
   "cell_type": "markdown",
   "metadata": {},
   "source": [
    "### Finetuning neural networks\n",
    "\n",
    "One way to determine the best set of hyperparameters to use in a keras neural network is to convert it into a scikit-learn classifier or regressor and \n",
    "use _GridSearchCV_ or _RandomSearchCV_. For that we can use the _KerasClassifier()_ or _KerasRegressor()_ class wrapper. Another way is to use a librairy\n",
    "called _keras\\_tuner_. After installing the package, we need to write the function that build, train and returns the model. Note that this function needs\n",
    "to take a _keras_tuner.Hyperparameters_ object imperatively."
   ]
  },
  {
   "cell_type": "code",
   "execution_count": null,
   "metadata": {},
   "outputs": [],
   "source": [
    "import keras_tuner as kt\n",
    "\n",
    "def build_model(hp: kt.HyperParameters):\n",
    "    n_hidden = hp.Int(\"n_hidden\", max_value=8, min_value=0, default=2)\n",
    "    n_neurons = hp.Int(\"n_neurons\", min_value=16, max_value=256)\n",
    "    learning_rate = hp.Float(\"learning_rate\", min_value=1e-4, max_value=1e-2, sampling=\"log\")\n",
    "    optimizer = hp.Choice(\"optimizer\", values=[\"sgd\", \"adam\"])\n",
    "    if optimizer == \"sgd\":\n",
    "        optimizer = tf.keras.Optimizers.SGD(learning_rate=learning_rate)\n",
    "    else:\n",
    "        optimizer = tf.keras.Optimizers.Adam(learning_rate=learning_rate)\n",
    "    model = tf.keras.Sequential()\n",
    "    model.add(tf.keras.layers.Flatten())\n",
    "    for _ in range(n_hidden):\n",
    "        model.add(tf.keras.layers.Hidden(n_neurons, activation=\"relu\"))\n",
    "    model.add(tf.keras.layers.Dense(10, activation=\"softmax\"))\n",
    "    model.compile(loss=\"sparse_categorical_crossentropy\", optimizer=optimizer, metrics=[\"accuracy\"])\n",
    "    return model\n",
    "\n",
    "# Now we can use a basic random search\n",
    "random_search_tuner = kt.RandomSearch(build_model, objective=\"val_accuracy\", max_trials=5, overwrite=True, directory=\"my_fashion_mnist\", project_name=\"my_rnd_search\", seed=42)\n",
    "random_search_tuner.search(X_train, y_train, epochs=10, validation_data=(X_valid, y_valid))\n",
    "# Now we can search for the 3 best models\n",
    "top3_models = random_search_tuner.get_best_models(num_models=3)\n",
    "best_model = top3_models[0]\n",
    "top3_params = random_search_tuner.get_best_hyperparameters(num_trials=3)"
   ]
  }
 ],
 "metadata": {
  "kernelspec": {
   "display_name": "mlnotes",
   "language": "python",
   "name": "python3"
  },
  "language_info": {
   "codemirror_mode": {
    "name": "ipython",
    "version": 3
   },
   "file_extension": ".py",
   "mimetype": "text/x-python",
   "name": "python",
   "nbconvert_exporter": "python",
   "pygments_lexer": "ipython3",
   "version": "3.12.3"
  }
 },
 "nbformat": 4,
 "nbformat_minor": 2
}
